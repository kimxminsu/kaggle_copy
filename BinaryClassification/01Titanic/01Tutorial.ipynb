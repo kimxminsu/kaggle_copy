{
 "cells": [
  {
   "cell_type": "markdown",
   "metadata": {},
   "source": [
    "## Config"
   ]
  },
  {
   "cell_type": "code",
   "execution_count": null,
   "metadata": {},
   "outputs": [],
   "source": [
    "import numpy as np                  # 연산\n",
    "import pandas as pd                 # 데이터프레임\n",
    "import matplotlib.pyplot as plt     # 시각화(그래프)\n",
    "import seaborn as sns               # 시각화(그래프)\n",
    "\n",
    "# plt.style.available               # matplotlib의 style 목록\n",
    "plt.style.use('seaborn-v0_8')       # matplotlib의 style 설정\n",
    "sns.set(font_scale=2.5)             # seaborn-font_scale 사용(graph-font size 매번 지정할 필요 없음)\n",
    "\n",
    "import missingno as msno            # 결측치(null) 분포 시각화\n",
    "import warnings\n",
    "warnings.filterwarnings('ignore')   # ignore warnings\n",
    "\n",
    "# 새로운창X 현재창O\n",
    "%matplotlib inline"
   ]
  }
 ],
 "metadata": {
  "kernelspec": {
   "display_name": "happy",
   "language": "python",
   "name": "python3"
  },
  "language_info": {
   "name": "python",
   "version": "3.9.19"
  }
 },
 "nbformat": 4,
 "nbformat_minor": 2
}
